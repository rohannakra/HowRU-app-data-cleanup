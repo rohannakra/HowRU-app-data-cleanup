{
 "cells": [
  {
   "cell_type": "markdown",
   "metadata": {},
   "source": [
    "#### Imports"
   ]
  },
  {
   "cell_type": "code",
   "execution_count": 1,
   "metadata": {},
   "outputs": [],
   "source": [
    "import numpy as np\n",
    "import pandas as pd\n",
    "from scipy import stats\n",
    "from scipy.spatial import distance\n",
    "from matplotlib import pyplot as plt\n",
    "from itertools import permutations\n",
    "import glob\n",
    "import csv\n",
    "import os\n",
    "import re\n",
    "import json\n"
   ]
  },
  {
   "cell_type": "markdown",
   "metadata": {},
   "source": [
    "#### Get Data"
   ]
  },
  {
   "cell_type": "code",
   "execution_count": 2,
   "metadata": {},
   "outputs": [
    {
     "name": "stdout",
     "output_type": "stream",
     "text": [
      "{'ospan_1': [[{'equation': {'a': 3, 'b': 12, 'operator': '+', 'result': 19, 'isCorrect': False}, 'letter': 'G', 'correctAnswer': True, 'choice': False, 'missed': False, 'decisionTime': 1691757671321, 'startTime': 1691757668735}, {'equation': {'a': 5, 'b': 0, 'operator': '-', 'result': 5, 'isCorrect': True}, 'letter': 'D', 'correctAnswer': True, 'choice': True, 'missed': False, 'decisionTime': 1691757676392, 'startTime': 1691757673773}, {'equation': {'a': 7, 'b': 3, 'operator': '+', 'result': 15, 'isCorrect': False}, 'letter': 'E', 'correctAnswer': True, 'choice': False, 'missed': False, 'decisionTime': 1691757681577, 'startTime': 1691757678843}, {'equation': {'a': 8, 'b': 5, 'operator': '-', 'result': 21, 'isCorrect': False}, 'letter': 'W', 'correctAnswer': False, 'missed': True, 'startTime': 1691757683908}, {'equation': {'a': 8, 'b': 7, 'operator': '+', 'result': 1, 'isCorrect': False}, 'letter': 'O', 'correctAnswer': False, 'missed': True, 'startTime': 1691757688956}, {'input': 'GEDWO', 'letters': 'GDEWO', 'inputTime': 1691785265749, 'startTime': 1691757694001}], [{'equation': {'a': 2, 'b': 6, 'operator': '+', 'result': 1, 'isCorrect': False}, 'letter': 'I', 'correctAnswer': False, 'missed': True, 'startTime': 1691785265788}, {'equation': {'a': 0, 'b': 10, 'operator': '+', 'result': 10, 'isCorrect': True}, 'letter': 'Q', 'correctAnswer': True, 'choice': True, 'missed': False, 'decisionTime': 1691785273302, 'startTime': 1691785270803}, {'equation': {'a': 13, 'b': 14, 'operator': '+', 'result': 7, 'isCorrect': False}, 'letter': 'K', 'correctAnswer': False, 'missed': True, 'startTime': 1691785275860}, {'equation': {'a': 8, 'b': 12, 'operator': '+', 'result': 20, 'isCorrect': True}, 'letter': 'J', 'correctAnswer': False, 'missed': True, 'startTime': 1691785280913}, {'equation': {'a': 1, 'b': 1, 'operator': '-', 'result': 0, 'isCorrect': True}, 'letter': 'P', 'correctAnswer': False, 'choice': False, 'missed': False, 'decisionTime': 1691785287634, 'startTime': 1691785285963}, {'equation': {'a': 6, 'b': 4, 'operator': '-', 'result': 17, 'isCorrect': False}, 'letter': 'W', 'correctAnswer': False, 'choice': True, 'missed': False, 'decisionTime': 1691785293997, 'startTime': 1691785291016}, {'equation': {'a': 7, 'b': 9, 'operator': '+', 'result': 28, 'isCorrect': False}, 'letter': 'L', 'correctAnswer': False, 'missed': True, 'startTime': 1691785296060}, {'equation': {'a': 9, 'b': 6, 'operator': '-', 'result': 21, 'isCorrect': False}, 'letter': 'V', 'correctAnswer': False, 'missed': True, 'startTime': 1691785301116}, {'input': 'AKEYVW', 'letters': 'IQKJPWLV', 'inputTime': 1691785521996, 'startTime': 1691785306161}], [{'equation': {'a': 12, 'b': 2, 'operator': '-', 'result': 10, 'isCorrect': True}, 'letter': 'A', 'correctAnswer': True, 'choice': True, 'missed': False, 'decisionTime': 1691785523994, 'startTime': 1691785522027}, {'equation': {'a': 7, 'b': 6, 'operator': '-', 'result': 29, 'isCorrect': False}, 'letter': 'T', 'correctAnswer': True, 'choice': False, 'missed': False, 'decisionTime': 1691785528754, 'startTime': 1691785527054}, {'equation': {'a': 9, 'b': 4, 'operator': '-', 'result': 5, 'isCorrect': True}, 'letter': 'D', 'correctAnswer': True, 'choice': True, 'missed': False, 'decisionTime': 1691785534018, 'startTime': 1691785532111}, {'equation': {'a': 14, 'b': 4, 'operator': '-', 'result': 10, 'isCorrect': True}, 'letter': 'P', 'correctAnswer': False, 'missed': True, 'startTime': 1691785537164}, {'input': 'ATDP', 'letters': 'ATDP', 'inputTime': 1691785700919, 'startTime': 1691785542207}], [{'equation': {'a': 11, 'b': 2, 'operator': '+', 'result': 16, 'isCorrect': False}, 'letter': 'L', 'correctAnswer': True, 'choice': False, 'missed': False, 'decisionTime': 1691785703161, 'startTime': 1691785700954}, {'equation': {'a': 8, 'b': 4, 'operator': '-', 'result': 4, 'isCorrect': True}, 'letter': 'H', 'correctAnswer': True, 'choice': True, 'missed': False, 'decisionTime': 1691785708100, 'startTime': 1691785705971}, {'equation': {'a': 14, 'b': 3, 'operator': '+', 'result': 17, 'isCorrect': True}, 'letter': 'X', 'correctAnswer': False, 'missed': True, 'startTime': 1691785711036}, {'equation': {'a': 6, 'b': 13, 'operator': '+', 'result': 1, 'isCorrect': False}, 'letter': 'J', 'correctAnswer': False, 'missed': True, 'startTime': 1691785716087}, {'equation': {'a': 1, 'b': 4, 'operator': '+', 'result': 19, 'isCorrect': False}, 'letter': 'K', 'correctAnswer': False, 'missed': True, 'startTime': 1691785721141}, {'equation': {'a': 14, 'b': 2, 'operator': '-', 'result': 12, 'isCorrect': True}, 'letter': 'U', 'correctAnswer': False, 'missed': True, 'startTime': 1691785726196}, {'equation': {'a': 13, 'b': 2, 'operator': '-', 'result': 11, 'isCorrect': True}, 'letter': 'M', 'correctAnswer': False, 'missed': True, 'startTime': 1691785731246}, {'input': 'LAXJKU', 'letters': 'LHXJKUM', 'inputTime': 1691785917080, 'startTime': 1691785736291}], [{'equation': {'a': 13, 'b': 13, 'operator': '-', 'result': 0, 'isCorrect': True}, 'letter': 'R', 'correctAnswer': True, 'choice': True, 'missed': False, 'decisionTime': 1691785918749, 'startTime': 1691785917115}, {'equation': {'a': 10, 'b': 8, 'operator': '-', 'result': 2, 'isCorrect': True}, 'letter': 'H', 'correctAnswer': True, 'choice': True, 'missed': False, 'decisionTime': 1691785924508, 'startTime': 1691785922137}, {'equation': {'a': 6, 'b': 9, 'operator': '+', 'result': 27, 'isCorrect': False}, 'letter': 'N', 'correctAnswer': False, 'missed': True, 'startTime': 1691785927194}, {'equation': {'a': 7, 'b': 2, 'operator': '-', 'result': 15, 'isCorrect': False}, 'letter': 'U', 'correctAnswer': False, 'missed': True, 'startTime': 1691785932247}, {'equation': {'a': 13, 'b': 13, 'operator': '+', 'result': 26, 'isCorrect': True}, 'letter': 'W', 'correctAnswer': False, 'missed': True, 'startTime': 1691785937296}, {'equation': {'a': 5, 'b': 3, 'operator': '-', 'result': 2, 'isCorrect': True}, 'letter': 'D', 'correctAnswer': True, 'choice': True, 'missed': False, 'decisionTime': 1691785944390, 'startTime': 1691785942351}, {'input': 'RHNUWD', 'letters': 'RHNUWD', 'inputTime': 1691786331710, 'startTime': 1691785947414}]], 'ospan_2': [[{'equation': {'a': 13, 'b': 10, 'operator': '-', 'result': 18, 'isCorrect': False}, 'letter': 'Q', 'correctAnswer': True, 'choice': False, 'missed': False, 'decisionTime': 1691786334214, 'startTime': 1691786331755}, {'equation': {'a': 2, 'b': 0, 'operator': '-', 'result': 17, 'isCorrect': False}, 'letter': 'A', 'correctAnswer': False, 'missed': True, 'startTime': 1691786336791}, {'equation': {'a': 7, 'b': 1, 'operator': '+', 'result': 8, 'isCorrect': True}, 'letter': 'T', 'correctAnswer': False, 'missed': True, 'startTime': 1691786341843}, {'equation': {'a': 7, 'b': 10, 'operator': '+', 'result': 17, 'isCorrect': True}, 'letter': 'C', 'correctAnswer': True, 'choice': True, 'missed': False, 'decisionTime': 1691786348805, 'startTime': 1691786346896}, {'equation': {'a': 9, 'b': 10, 'operator': '+', 'result': 25, 'isCorrect': False}, 'letter': 'F', 'correctAnswer': False, 'missed': True, 'startTime': 1691786351950}, {'equation': {'a': 9, 'b': 9, 'operator': '+', 'result': 18, 'isCorrect': True}, 'letter': 'N', 'correctAnswer': True, 'choice': True, 'missed': False, 'decisionTime': 1691786358920, 'startTime': 1691786357003}, {'input': 'QTAPFYT', 'letters': 'QATCFN', 'inputTime': 1691786558061, 'startTime': 1691786362052}], [{'equation': {'a': 13, 'b': 6, 'operator': '-', 'result': 7, 'isCorrect': True}, 'letter': 'Y', 'correctAnswer': False, 'choice': False, 'missed': False, 'decisionTime': 1691786560286, 'startTime': 1691786558096}, {'equation': {'a': 11, 'b': 12, 'operator': '+', 'result': 1, 'isCorrect': False}, 'letter': 'J', 'correctAnswer': False, 'missed': True, 'startTime': 1691786563122}, {'equation': {'a': 13, 'b': 5, 'operator': '-', 'result': 8, 'isCorrect': True}, 'letter': 'N', 'correctAnswer': False, 'missed': True, 'startTime': 1691786568177}, {'equation': {'a': 13, 'b': 3, 'operator': '-', 'result': 10, 'isCorrect': True}, 'letter': 'H', 'correctAnswer': True, 'choice': True, 'missed': False, 'decisionTime': 1691786575994, 'startTime': 1691786573227}, {'input': 'JNH', 'letters': 'YJNH', 'inputTime': 1691786986107, 'startTime': 1691786578284}], [{'equation': {'a': 4, 'b': 3, 'operator': '-', 'result': 12, 'isCorrect': False}, 'letter': 'Y', 'correctAnswer': True, 'choice': False, 'missed': False, 'decisionTime': 1691786987466, 'startTime': 1691786986142}, {'equation': {'a': 14, 'b': 11, 'operator': '-', 'result': 3, 'isCorrect': True}, 'letter': 'E', 'correctAnswer': False, 'missed': True, 'startTime': 1691786991162}, {'equation': {'a': 11, 'b': 14, 'operator': '+', 'result': 25, 'isCorrect': True}, 'letter': 'Z', 'correctAnswer': False, 'missed': True, 'startTime': 1691786996206}, {'equation': {'a': 2, 'b': 1, 'operator': '-', 'result': 1, 'isCorrect': True}, 'letter': 'D', 'correctAnswer': True, 'choice': True, 'missed': False, 'decisionTime': 1691787003151, 'startTime': 1691787001257}, {'equation': {'a': 0, 'b': 2, 'operator': '+', 'result': 2, 'isCorrect': True}, 'letter': 'Q', 'correctAnswer': False, 'missed': True, 'startTime': 1691787006311}, {'equation': {'a': 8, 'b': 2, 'operator': '-', 'result': 18, 'isCorrect': False}, 'letter': 'A', 'correctAnswer': True, 'choice': False, 'missed': False, 'decisionTime': 1691787014247, 'startTime': 1691787011359}, {'equation': {'a': 7, 'b': 3, 'operator': '+', 'result': 10, 'isCorrect': True}, 'letter': 'H', 'correctAnswer': False, 'missed': True, 'startTime': 1691787016414}, {'equation': {'a': 8, 'b': 4, 'operator': '-', 'result': 4, 'isCorrect': True}, 'letter': 'L', 'correctAnswer': False, 'missed': True, 'startTime': 1691787021464}, {'input': 'YZQDETAHY', 'letters': 'YEZDQAHL', 'inputTime': 1691787168768, 'startTime': 1691787026508}], [{'equation': {'a': 4, 'b': 12, 'operator': '+', 'result': 16, 'isCorrect': True}, 'letter': 'T', 'correctAnswer': True, 'choice': True, 'missed': False, 'decisionTime': 1691787170734, 'startTime': 1691787168804}, {'equation': {'a': 6, 'b': 7, 'operator': '+', 'result': 15, 'isCorrect': False}, 'letter': 'B', 'correctAnswer': False, 'choice': True, 'missed': False, 'decisionTime': 1691787176614, 'startTime': 1691787173833}, {'equation': {'a': 1, 'b': 7, 'operator': '+', 'result': 11, 'isCorrect': False}, 'letter': 'J', 'correctAnswer': True, 'choice': False, 'missed': False, 'decisionTime': 1691787181214, 'startTime': 1691787178886}, {'equation': {'a': 5, 'b': 2, 'operator': '-', 'result': 2, 'isCorrect': False}, 'letter': 'E', 'correctAnswer': False, 'missed': True, 'startTime': 1691787183941}, {'equation': {'a': 14, 'b': 9, 'operator': '+', 'result': 23, 'isCorrect': True}, 'letter': 'D', 'correctAnswer': False, 'missed': True, 'startTime': 1691787189003}, {'equation': {'a': 13, 'b': 1, 'operator': '+', 'result': 14, 'isCorrect': True}, 'letter': 'K', 'correctAnswer': False, 'missed': True, 'startTime': 1691787194052}, {'equation': {'a': 8, 'b': 10, 'operator': '+', 'result': 18, 'isCorrect': True}, 'letter': 'F', 'correctAnswer': False, 'missed': True, 'startTime': 1691787199100}, {'input': 'TBJQYTF', 'letters': 'TBJEDKF', 'inputTime': 1691787259248, 'startTime': 1691787204136}], [{'equation': {'a': 6, 'b': 3, 'operator': '-', 'result': 3, 'isCorrect': True}, 'letter': 'P', 'correctAnswer': True, 'choice': True, 'missed': False, 'decisionTime': 1691787260763, 'startTime': 1691787259278}, {'equation': {'a': 14, 'b': 1, 'operator': '-', 'result': 26, 'isCorrect': False}, 'letter': 'B', 'correctAnswer': True, 'choice': False, 'missed': False, 'decisionTime': 1691787266339, 'startTime': 1691787264307}, {'equation': {'a': 14, 'b': 11, 'operator': '-', 'result': 3, 'isCorrect': True}, 'letter': 'L', 'correctAnswer': False, 'missed': True, 'startTime': 1691787269364}, {'equation': {'a': 14, 'b': 3, 'operator': '-', 'result': 28, 'isCorrect': False}, 'letter': 'G', 'correctAnswer': False, 'missed': True, 'startTime': 1691787274415}, {'equation': {'a': 12, 'b': 10, 'operator': '-', 'result': 2, 'isCorrect': True}, 'letter': 'O', 'correctAnswer': True, 'choice': True, 'missed': False, 'decisionTime': 1691787281481, 'startTime': 1691787279468}, {'input': 'PBLGO', 'letters': 'PBLGO', 'inputTime': 1691787636678, 'startTime': 1691787284516}]], 'ospan_3': [[{'equation': {'a': 6, 'b': 2, 'operator': '-', 'result': 4, 'isCorrect': True}, 'letter': 'U', 'correctAnswer': True, 'choice': True, 'missed': False, 'decisionTime': 1691787638789, 'startTime': 1691787636722}, {'equation': {'a': 3, 'b': 2, 'operator': '+', 'result': 5, 'isCorrect': True}, 'letter': 'O', 'correctAnswer': True, 'choice': True, 'missed': False, 'decisionTime': 1691787644667, 'startTime': 1691787641761}, {'equation': {'a': 12, 'b': 10, 'operator': '-', 'result': 11, 'isCorrect': False}, 'letter': 'X', 'correctAnswer': False, 'missed': True, 'startTime': 1691787646821}, {'equation': {'a': 8, 'b': 6, 'operator': '+', 'result': 14, 'isCorrect': True}, 'letter': 'V', 'correctAnswer': False, 'choice': False, 'missed': False, 'decisionTime': 1691787654342, 'startTime': 1691787651868}, {'equation': {'a': 13, 'b': 2, 'operator': '+', 'result': 15, 'isCorrect': True}, 'letter': 'W', 'correctAnswer': False, 'missed': True, 'startTime': 1691787656933}, {'equation': {'a': 12, 'b': 4, 'operator': '+', 'result': 19, 'isCorrect': False}, 'letter': 'H', 'correctAnswer': False, 'missed': True, 'startTime': 1691787661981}, {'input': 'UOXVWH', 'letters': 'UOXVWH', 'inputTime': 1691787689173, 'startTime': 1691787667024}], [{'equation': {'a': 0, 'b': 7, 'operator': '+', 'result': 7, 'isCorrect': True}, 'letter': 'Z', 'correctAnswer': False, 'choice': False, 'missed': False, 'decisionTime': 1691787690550, 'startTime': 1691787689207}, {'equation': {'a': 7, 'b': 11, 'operator': '+', 'result': 18, 'isCorrect': True}, 'letter': 'T', 'correctAnswer': False, 'missed': True, 'startTime': 1691787694220}, {'equation': {'a': 8, 'b': 2, 'operator': '-', 'result': 6, 'isCorrect': True}, 'letter': 'M', 'correctAnswer': False, 'choice': False, 'missed': False, 'decisionTime': 1691787699404, 'startTime': 1691787699273}, {'equation': {'a': 8, 'b': 4, 'operator': '+', 'result': 0, 'isCorrect': False}, 'letter': 'Q', 'correctAnswer': False, 'choice': True, 'missed': False, 'decisionTime': 1691787706866, 'startTime': 1691787704333}, {'equation': {'a': 12, 'b': 2, 'operator': '+', 'result': 15, 'isCorrect': False}, 'letter': 'Y', 'correctAnswer': False, 'missed': True, 'startTime': 1691787709396}, {'input': 'ZTMQY', 'letters': 'ZTMQY', 'inputTime': 1691787743776, 'startTime': 1691787714438}], [{'equation': {'a': 3, 'b': 2, 'operator': '-', 'result': 1, 'isCorrect': True}, 'letter': 'F', 'correctAnswer': True, 'choice': True, 'missed': False, 'decisionTime': 1691787745045, 'startTime': 1691787743803}, {'equation': {'a': 6, 'b': 4, 'operator': '+', 'result': 3, 'isCorrect': False}, 'letter': 'Q', 'correctAnswer': False, 'missed': True, 'startTime': 1691787748834}, {'equation': {'a': 14, 'b': 8, 'operator': '+', 'result': 22, 'isCorrect': True}, 'letter': 'W', 'correctAnswer': False, 'choice': False, 'missed': False, 'decisionTime': 1691787756527, 'startTime': 1691787753884}, {'equation': {'a': 12, 'b': 14, 'operator': '+', 'result': 26, 'isCorrect': True}, 'letter': 'J', 'correctAnswer': False, 'missed': True, 'startTime': 1691787758948}, {'equation': {'a': 3, 'b': 2, 'operator': '-', 'result': 10, 'isCorrect': False}, 'letter': 'V', 'correctAnswer': False, 'missed': True, 'startTime': 1691787763998}, {'equation': {'a': 0, 'b': 9, 'operator': '+', 'result': 12, 'isCorrect': False}, 'letter': 'S', 'correctAnswer': False, 'missed': True, 'startTime': 1691787769043}, {'equation': {'a': 12, 'b': 11, 'operator': '-', 'result': 14, 'isCorrect': False}, 'letter': 'M', 'correctAnswer': False, 'missed': True, 'startTime': 1691787774094}, {'input': 'FQWQMX', 'letters': 'FQWJVSM', 'inputTime': 1691787801919, 'startTime': 1691787779141}], [{'equation': {'a': 3, 'b': 14, 'operator': '+', 'result': 17, 'isCorrect': True}, 'letter': 'L', 'correctAnswer': False, 'missed': True, 'startTime': 1691787801952}, {'equation': {'a': 1, 'b': 12, 'operator': '+', 'result': 29, 'isCorrect': False}, 'letter': 'K', 'correctAnswer': False, 'missed': True, 'startTime': 1691787806974}, {'equation': {'a': 8, 'b': 14, 'operator': '+', 'result': 7, 'isCorrect': False}, 'letter': 'R', 'correctAnswer': False, 'missed': True, 'startTime': 1691787812027}, {'equation': {'a': 9, 'b': 3, 'operator': '-', 'result': 3, 'isCorrect': False}, 'letter': 'B', 'correctAnswer': False, 'missed': True, 'startTime': 1691787817082}, {'input': 'LKRB', 'letters': 'LKRB', 'inputTime': 1691787860150, 'startTime': 1691787822127}], [{'equation': {'a': 14, 'b': 7, 'operator': '+', 'result': 21, 'isCorrect': True}, 'letter': 'Y', 'correctAnswer': False, 'choice': False, 'missed': False, 'decisionTime': 1691787861894, 'startTime': 1691787860181}, {'equation': {'a': 9, 'b': 0, 'operator': '-', 'result': 29, 'isCorrect': False}, 'letter': 'M', 'correctAnswer': False, 'missed': True, 'startTime': 1691787865210}, {'equation': {'a': 12, 'b': 3, 'operator': '-', 'result': 26, 'isCorrect': False}, 'letter': 'J', 'correctAnswer': False, 'missed': True, 'startTime': 1691787870263}, {'equation': {'a': 7, 'b': 2, 'operator': '+', 'result': 9, 'isCorrect': True}, 'letter': 'X', 'correctAnswer': False, 'missed': True, 'startTime': 1691787875300}, {'equation': {'a': 9, 'b': 2, 'operator': '-', 'result': 22, 'isCorrect': False}, 'letter': 'F', 'correctAnswer': True, 'choice': False, 'missed': False, 'decisionTime': 1691787880628, 'startTime': 1691787880365}, {'equation': {'a': 4, 'b': 3, 'operator': '-', 'result': 1, 'isCorrect': True}, 'letter': 'N', 'correctAnswer': False, 'missed': True, 'startTime': 1691787885420}, {'equation': {'a': 8, 'b': 7, 'operator': '-', 'result': 6, 'isCorrect': False}, 'letter': 'T', 'correctAnswer': False, 'missed': True, 'startTime': 1691787890472}, {'equation': {'a': 10, 'b': 12, 'operator': '+', 'result': 16, 'isCorrect': False}, 'letter': 'R', 'correctAnswer': False, 'missed': True, 'startTime': 1691787895523}, {'input': 'YLKXMNR', 'letters': 'YMJXFNTR', 'inputTime': 1691787936721, 'startTime': 1691787900569}]]}\n"
     ]
    }
   ],
   "source": [
    "with open('../original data/OSPAN data/Newest_OSPAN1.txt', 'r') as OSPAN1:\n",
    "    OSPAN1 = OSPAN1.read()\n",
    "    OSPAN1 = OSPAN1.replace(\"'\", '\"')\n",
    "    OSPAN1 = OSPAN1.replace('True', 'true')\n",
    "    OSPAN1 = OSPAN1.replace('False', 'false')\n",
    "\n",
    "    ospan_1 = json.loads(OSPAN1)\n",
    "\n",
    "    print(ospan_1['data'])\n"
   ]
  },
  {
   "cell_type": "markdown",
   "metadata": {},
   "source": [
    "#### Make New DataFrame for Testing"
   ]
  },
  {
   "cell_type": "code",
   "execution_count": 46,
   "metadata": {},
   "outputs": [],
   "source": [
    "def ospan_data_df(initial_data, filename):\n",
    "    np_array = []\n",
    "    columns = []\n",
    "\n",
    "    # Sort each OSPAN.\n",
    "    initial_data['ospan_1'] = sorted(initial_data['ospan_1'], key=len)\n",
    "    initial_data['ospan_2'] = sorted(initial_data['ospan_2'], key=len)\n",
    "    initial_data['ospan_3'] = sorted(initial_data['ospan_3'], key=len)\n",
    "\n",
    "    # Add values + columns.\n",
    "\n",
    "    # OSPAN.\n",
    "    for problem_set_i in range(1, 4):\n",
    "        problem_set = initial_data[f'ospan_{problem_set_i}']\n",
    "        values = []\n",
    "\n",
    "        # Letter set.\n",
    "        for letter_set_i in range(4):\n",
    "            letter_set = problem_set[letter_set_i]\n",
    "\n",
    "            # Problem.\n",
    "            for problem_i in range(len(letter_set)):\n",
    "                problem = letter_set[problem_i]\n",
    "\n",
    "                if problem_i == len(letter_set) - 1:    # At this point, at the end of the letter set... this is where we're given the full letter set.\n",
    "                    user_letters = problem['input']\n",
    "                    letters = problem['letters']\n",
    "                    user_input_time = problem['inputTime']\n",
    "                    user_start_time = problem['startTime']\n",
    "\n",
    "                    # Add values.\n",
    "                    values.extend([user_letters, letters, user_input_time, user_start_time])\n",
    "                    if problem_set_i == 1:    # Only add columns if this is the first problem set.\n",
    "                        columns.extend(['user_letters', 'letters', 'user_input_time', 'user_start_time'])\n",
    "                \n",
    "                else:\n",
    "                    equation_old = problem['equation']\n",
    "                    \n",
    "                    equation_new = f\"{equation_old['a']} {equation_old['operator']} {equation_old['b']} = {equation_old['result']}\"\n",
    "                    letter = problem['letter']\n",
    "                    user_is_correct = problem['correctAnswer']\n",
    "                    if problem['missed'] == True:\n",
    "                        choice = 'missed'\n",
    "                    else:\n",
    "                        choice = problem['choice']\n",
    "\n",
    "                    # Add values.\n",
    "                    values.extend([equation_new, letter, user_is_correct, choice])\n",
    "                    if problem_set_i == 1:\n",
    "                        columns.extend(['equation', 'letter', 'user_is_correct', 'choice'])\n",
    "\n",
    "        # Add values to np_array.          \n",
    "        np_array.append(values)\n",
    "    \n",
    "    # Finalize data.\n",
    "    np_array = np.array(np_array, dtype='O')\n",
    "    dataframe = pd.DataFrame(np_array, columns=columns)\n",
    "\n",
    "    # Create new index.\n",
    "    index = ['OSPAN 1', 'OSPAN 2', 'OSPAN 3']\n",
    "    dataframe['index'] = index\n",
    "    dataframe.set_index('index', inplace=True)\n",
    "\n",
    "    dataframe.to_csv(f'../clean data/OSPAN updated/{filename}.csv')\n",
    "\n",
    "\n",
    "ospan_data_df(ospan_1['data'], '101_OSPAN_1')"
   ]
  }
 ],
 "metadata": {
  "kernelspec": {
   "display_name": "base",
   "language": "python",
   "name": "python3"
  },
  "language_info": {
   "codemirror_mode": {
    "name": "ipython",
    "version": 3
   },
   "file_extension": ".py",
   "mimetype": "text/x-python",
   "name": "python",
   "nbconvert_exporter": "python",
   "pygments_lexer": "ipython3",
   "version": "3.9.17"
  },
  "orig_nbformat": 4
 },
 "nbformat": 4,
 "nbformat_minor": 2
}
