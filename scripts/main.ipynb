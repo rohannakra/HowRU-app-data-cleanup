{
 "cells": [
  {
   "cell_type": "markdown",
   "metadata": {},
   "source": [
    "#### Imports"
   ]
  },
  {
   "cell_type": "code",
   "execution_count": 1,
   "metadata": {},
   "outputs": [],
   "source": [
    "import numpy as np\n",
    "import pandas as pd\n",
    "from scipy import stats\n",
    "from scipy.spatial import distance\n",
    "from matplotlib import pyplot as plt\n",
    "from itertools import permutations\n",
    "import glob\n",
    "import csv\n",
    "import os\n",
    "import re\n",
    "import json\n"
   ]
  },
  {
   "cell_type": "markdown",
   "metadata": {},
   "source": [
    "#### Get Data"
   ]
  },
  {
   "cell_type": "code",
   "execution_count": 2,
   "metadata": {},
   "outputs": [
    {
     "data": {
      "text/html": [
       "<div>\n",
       "<style scoped>\n",
       "    .dataframe tbody tr th:only-of-type {\n",
       "        vertical-align: middle;\n",
       "    }\n",
       "\n",
       "    .dataframe tbody tr th {\n",
       "        vertical-align: top;\n",
       "    }\n",
       "\n",
       "    .dataframe thead th {\n",
       "        text-align: right;\n",
       "    }\n",
       "</style>\n",
       "<table border=\"1\" class=\"dataframe\">\n",
       "  <thead>\n",
       "    <tr style=\"text-align: right;\">\n",
       "      <th></th>\n",
       "      <th>id</th>\n",
       "      <th>user_id</th>\n",
       "      <th>user</th>\n",
       "      <th>data</th>\n",
       "    </tr>\n",
       "  </thead>\n",
       "  <tbody>\n",
       "    <tr>\n",
       "      <th>0</th>\n",
       "      <td>64b1bc41e21b8b02b9bd07dd</td>\n",
       "      <td>64b039620ccdf8768472d8b8</td>\n",
       "      <td>rtocs_imani</td>\n",
       "      <td>{\"data\": {\"test_type\": \"Demo\", \"finger_tap\": {...</td>\n",
       "    </tr>\n",
       "    <tr>\n",
       "      <th>1</th>\n",
       "      <td>64abc00a0e51fb55283e3951</td>\n",
       "      <td>64a4ccfbf93736cd307a5066</td>\n",
       "      <td>rtocs_sacha</td>\n",
       "      <td>{\"data\": {\"where_EMA_evening\": \"Home\", \"excite...</td>\n",
       "    </tr>\n",
       "    <tr>\n",
       "      <th>2</th>\n",
       "      <td>64ab0b89133b98be33469f23</td>\n",
       "      <td>64a4ccfbf93736cd307a5066</td>\n",
       "      <td>rtocs_sacha</td>\n",
       "      <td>{\"data\": {\"where_EMA_morning\": \"Home\", \"excite...</td>\n",
       "    </tr>\n",
       "    <tr>\n",
       "      <th>3</th>\n",
       "      <td>64aa75d35cab48548216fd3d</td>\n",
       "      <td>64a4ccfbf93736cd307a5066</td>\n",
       "      <td>rtocs_sacha</td>\n",
       "      <td>{\"data\": {\"where_EMA_evening\": \"Home\", \"excite...</td>\n",
       "    </tr>\n",
       "    <tr>\n",
       "      <th>4</th>\n",
       "      <td>64a9e33e9a987115adbff6aa</td>\n",
       "      <td>64a4ccfbf93736cd307a5066</td>\n",
       "      <td>rtocs_sacha</td>\n",
       "      <td>{\"data\": {\"where_EMA\": \"Home\", \"excited_scale\"...</td>\n",
       "    </tr>\n",
       "    <tr>\n",
       "      <th>...</th>\n",
       "      <td>...</td>\n",
       "      <td>...</td>\n",
       "      <td>...</td>\n",
       "      <td>...</td>\n",
       "    </tr>\n",
       "    <tr>\n",
       "      <th>127</th>\n",
       "      <td>64a66536304d98857d698c90</td>\n",
       "      <td>6423241561f11182a22e06c5</td>\n",
       "      <td>rtocs_999_3</td>\n",
       "      <td>{\"data\": {\"test_type\": \"Night Testing\", \"finge...</td>\n",
       "    </tr>\n",
       "    <tr>\n",
       "      <th>128</th>\n",
       "      <td>64a6645be409f9233fe1ba0d</td>\n",
       "      <td>6423241561f11182a22e06c5</td>\n",
       "      <td>rtocs_999_3</td>\n",
       "      <td>{\"data\": {\"rst\": [[{\"startTime\": 1688626189154...</td>\n",
       "    </tr>\n",
       "    <tr>\n",
       "      <th>129</th>\n",
       "      <td>64a663fe304d98857d698c8f</td>\n",
       "      <td>6423241561f11182a22e06c5</td>\n",
       "      <td>rtocs_999_3</td>\n",
       "      <td>{\"data\": {\"ospan_1\": [[{\"equation\": {\"a\": 12, ...</td>\n",
       "    </tr>\n",
       "    <tr>\n",
       "      <th>130</th>\n",
       "      <td>64a66338e409f9233fe1ba0c</td>\n",
       "      <td>6423241561f11182a22e06c5</td>\n",
       "      <td>rtocs_999_3</td>\n",
       "      <td>{\"data\": {\"test_type\": \"Night Training\", \"wpa_...</td>\n",
       "    </tr>\n",
       "    <tr>\n",
       "      <th>131</th>\n",
       "      <td>64a661f9304d98857d698c8e</td>\n",
       "      <td>6423241561f11182a22e06c5</td>\n",
       "      <td>rtocs_999_3</td>\n",
       "      <td>{\"data\": {\"test_type\": \"Night Training\", \"fing...</td>\n",
       "    </tr>\n",
       "  </tbody>\n",
       "</table>\n",
       "<p>132 rows × 4 columns</p>\n",
       "</div>"
      ],
      "text/plain": [
       "                           id                   user_id         user  \\\n",
       "0    64b1bc41e21b8b02b9bd07dd  64b039620ccdf8768472d8b8  rtocs_imani   \n",
       "1    64abc00a0e51fb55283e3951  64a4ccfbf93736cd307a5066  rtocs_sacha   \n",
       "2    64ab0b89133b98be33469f23  64a4ccfbf93736cd307a5066  rtocs_sacha   \n",
       "3    64aa75d35cab48548216fd3d  64a4ccfbf93736cd307a5066  rtocs_sacha   \n",
       "4    64a9e33e9a987115adbff6aa  64a4ccfbf93736cd307a5066  rtocs_sacha   \n",
       "..                        ...                       ...          ...   \n",
       "127  64a66536304d98857d698c90  6423241561f11182a22e06c5  rtocs_999_3   \n",
       "128  64a6645be409f9233fe1ba0d  6423241561f11182a22e06c5  rtocs_999_3   \n",
       "129  64a663fe304d98857d698c8f  6423241561f11182a22e06c5  rtocs_999_3   \n",
       "130  64a66338e409f9233fe1ba0c  6423241561f11182a22e06c5  rtocs_999_3   \n",
       "131  64a661f9304d98857d698c8e  6423241561f11182a22e06c5  rtocs_999_3   \n",
       "\n",
       "                                                  data  \n",
       "0    {\"data\": {\"test_type\": \"Demo\", \"finger_tap\": {...  \n",
       "1    {\"data\": {\"where_EMA_evening\": \"Home\", \"excite...  \n",
       "2    {\"data\": {\"where_EMA_morning\": \"Home\", \"excite...  \n",
       "3    {\"data\": {\"where_EMA_evening\": \"Home\", \"excite...  \n",
       "4    {\"data\": {\"where_EMA\": \"Home\", \"excited_scale\"...  \n",
       "..                                                 ...  \n",
       "127  {\"data\": {\"test_type\": \"Night Testing\", \"finge...  \n",
       "128  {\"data\": {\"rst\": [[{\"startTime\": 1688626189154...  \n",
       "129  {\"data\": {\"ospan_1\": [[{\"equation\": {\"a\": 12, ...  \n",
       "130  {\"data\": {\"test_type\": \"Night Training\", \"wpa_...  \n",
       "131  {\"data\": {\"test_type\": \"Night Training\", \"fing...  \n",
       "\n",
       "[132 rows x 4 columns]"
      ]
     },
     "metadata": {},
     "output_type": "display_data"
    },
    {
     "name": "stdout",
     "output_type": "stream",
     "text": [
      "<class 'str'>\n"
     ]
    }
   ],
   "source": [
    "# Full dataset:\n",
    "dataset = pd.read_csv(\"../original data/HowRU_app_data_tasks_and_questionnaire_summer_only.csv\")\n",
    "\n",
    "# Choose only the columns you need:\n",
    "data = dataset.loc[:, [\"id\", \"user_id\", \"user\", \"data\"]]\n",
    "\n",
    "display(data)\n",
    "\n",
    "print(type(list(data['data'])[0]))\n"
   ]
  },
  {
   "cell_type": "markdown",
   "metadata": {},
   "source": [
    "#### Data Cleanup"
   ]
  },
  {
   "cell_type": "code",
   "execution_count": 3,
   "metadata": {},
   "outputs": [],
   "source": [
    "def cleanup(filename, task_string):\n",
    "    np_array = []\n",
    "    columns = []\n",
    "\n",
    "    # Set columns to max amount.\n",
    "    for sample_index in range(len(data['data'])):\n",
    "\n",
    "        sample_data = data['data'][sample_index]\n",
    "\n",
    "        if type(task_string) == list:\n",
    "            if all([task_s in sample_data for task_s in task_string]):\n",
    "                sample_data_dict = json.loads(sample_data)\n",
    "\n",
    "                data_columns = list(column for column in sample_data_dict['data'])\n",
    "                metadata_columns = ['started_at', 'finished_at']\n",
    "\n",
    "                columns_test = ['id', 'user_id', 'user', *data_columns, *metadata_columns]\n",
    "\n",
    "                if len(columns_test) > len(columns):\n",
    "                    columns = columns_test\n",
    "        else:\n",
    "            if task_string in sample_data:\n",
    "                sample_data_dict = json.loads(sample_data)\n",
    "            \n",
    "                data_columns = list(column for column in sample_data_dict['data'])\n",
    "                metadata_columns = ['started_at', 'finished_at']\n",
    "\n",
    "                columns_test = ['id', 'user_id', 'user', *data_columns, *metadata_columns]\n",
    "\n",
    "                if len(columns_test) > len(columns):\n",
    "                    columns = columns_test\n",
    "\n",
    "    # Add to np_array (based on parameters)\n",
    "    for sample_index in range(len(data['data'])):\n",
    "        sample_id = data['id'][sample_index]\n",
    "        sample_user_id = data['user_id'][sample_index]\n",
    "        sample_user = data['user'][sample_index]\n",
    "        sample_data = data['data'][sample_index]\n",
    "\n",
    "        # Expand data column.\n",
    "        sample_data_dict = json.loads(sample_data)\n",
    "\n",
    "        # Data & metadata values.\n",
    "        data_values = []\n",
    "\n",
    "        for column in columns[3:-2]:\n",
    "            try:\n",
    "                value = sample_data_dict['data'][column]\n",
    "            except KeyError:\n",
    "                value = 'N/A'\n",
    "            data_values.append(str(value))\n",
    "\n",
    "        metadata_values = list(value for value in sample_data_dict['metadata'].values())[-2:]   \n",
    "\n",
    "        # Recreate sample_data\n",
    "        sample_data_new = [*data_values, *metadata_values]\n",
    "\n",
    "        if type(task_string) == list:\n",
    "            if all([task_s in sample_data for task_s in task_string]):\n",
    "                np_array.append([sample_id, sample_user_id, sample_user, *sample_data_new])\n",
    "        else:\n",
    "            if task_string in sample_data:\n",
    "                np_array.append([sample_id, sample_user_id, sample_user, *sample_data_new])\n",
    "    \n",
    "    # Convert to dataframe.\n",
    "    dataframe = pd.DataFrame(np.array(np_array), columns=columns)\n",
    "\n",
    "    # Convert to csv.\n",
    "    dataframe.to_csv(f'../clean data/{filename}.csv')\n"
   ]
  },
  {
   "cell_type": "markdown",
   "metadata": {},
   "source": [
    "#### Cleanup Sleep Diary Morning"
   ]
  },
  {
   "cell_type": "code",
   "execution_count": 25,
   "metadata": {},
   "outputs": [],
   "source": [
    "cleanup('sleep_diary_morning', 'where_EMA_morning')"
   ]
  },
  {
   "cell_type": "markdown",
   "metadata": {},
   "source": [
    "#### Cleanup Finger Tapping Night Testing"
   ]
  },
  {
   "cell_type": "code",
   "execution_count": 26,
   "metadata": {},
   "outputs": [],
   "source": [
    "cleanup('finger_tapping_night_testing', ['Night Testing', 'finger_tap'])"
   ]
  },
  {
   "cell_type": "markdown",
   "metadata": {},
   "source": [
    "#### Cleanup Finger Tapping Night Training"
   ]
  },
  {
   "cell_type": "code",
   "execution_count": 27,
   "metadata": {},
   "outputs": [],
   "source": [
    "cleanup('finger_tapping_night_training', ['Night Training', 'finger_tap'])"
   ]
  },
  {
   "cell_type": "markdown",
   "metadata": {},
   "source": [
    "#### Cleanup Finger Tapping Morning Testing"
   ]
  },
  {
   "cell_type": "code",
   "execution_count": 28,
   "metadata": {},
   "outputs": [],
   "source": [
    "cleanup('finger_tapping_morning_testing', ['Morning Testing', 'finger_tap'])"
   ]
  },
  {
   "cell_type": "markdown",
   "metadata": {},
   "source": [
    "#### Cleanup WPA Night Training"
   ]
  },
  {
   "cell_type": "code",
   "execution_count": 29,
   "metadata": {},
   "outputs": [],
   "source": [
    "cleanup('WPA_night_training', ['wpa_training', \"Night Training\"])"
   ]
  },
  {
   "cell_type": "markdown",
   "metadata": {},
   "source": [
    "#### Cleanup WPA Morning Testing"
   ]
  },
  {
   "cell_type": "code",
   "execution_count": 30,
   "metadata": {},
   "outputs": [],
   "source": [
    "cleanup('WPA_morning_testing', ['wpa_morning_testing', 'Morning Testing'])"
   ]
  },
  {
   "cell_type": "markdown",
   "metadata": {},
   "source": [
    "#### Cleanup Sleep Diary Evening"
   ]
  },
  {
   "cell_type": "code",
   "execution_count": 31,
   "metadata": {},
   "outputs": [],
   "source": [
    "cleanup('sleep_diary_evening', 'where_EMA_evening')"
   ]
  },
  {
   "cell_type": "markdown",
   "metadata": {},
   "source": [
    "#### Cleanup Sleep Diary Forget Night"
   ]
  },
  {
   "cell_type": "code",
   "execution_count": 32,
   "metadata": {},
   "outputs": [],
   "source": [
    "cleanup('sleep_diary_forget_night', 'caffeinated_beverages')"
   ]
  },
  {
   "cell_type": "markdown",
   "metadata": {},
   "source": [
    "#### Cleanup Sleep Diary Forget Morning"
   ]
  },
  {
   "cell_type": "code",
   "execution_count": 33,
   "metadata": {},
   "outputs": [],
   "source": [
    "cleanup('sleep_diary_forget_morning', 'get_out_of_bed')"
   ]
  },
  {
   "cell_type": "markdown",
   "metadata": {},
   "source": [
    "#### Cleanup VGE Questionnaire"
   ]
  },
  {
   "cell_type": "code",
   "execution_count": 34,
   "metadata": {},
   "outputs": [],
   "source": [
    "cleanup('VGE_questionnaire', 'regularly_plays_games')"
   ]
  },
  {
   "cell_type": "markdown",
   "metadata": {},
   "source": [
    "#### Cleanup PSAM Questionnaire"
   ]
  },
  {
   "cell_type": "code",
   "execution_count": 35,
   "metadata": {},
   "outputs": [],
   "source": [
    "cleanup('PSAM_questionnaire', 'sure_parent')"
   ]
  },
  {
   "cell_type": "markdown",
   "metadata": {},
   "source": [
    "#### Cleanup FSS Questionnaire"
   ]
  },
  {
   "cell_type": "code",
   "execution_count": 36,
   "metadata": {},
   "outputs": [],
   "source": [
    "cleanup('FSS_questionnaire', 'household_income')"
   ]
  },
  {
   "cell_type": "markdown",
   "metadata": {},
   "source": [
    "#### Cleanup APQ Parent Questionnaire"
   ]
  },
  {
   "cell_type": "code",
   "execution_count": 37,
   "metadata": {},
   "outputs": [],
   "source": [
    "cleanup('APQ_parent_questionnaire', 'talk_child')"
   ]
  },
  {
   "cell_type": "markdown",
   "metadata": {},
   "source": [
    "#### Cleanup PSS Questionnaire"
   ]
  },
  {
   "cell_type": "code",
   "execution_count": 38,
   "metadata": {},
   "outputs": [],
   "source": [
    "cleanup('PSS_questionnaire', 'upset_something_unexpected')"
   ]
  },
  {
   "cell_type": "markdown",
   "metadata": {},
   "source": [
    "#### Cleanup GAD-7 Questionnaire"
   ]
  },
  {
   "cell_type": "code",
   "execution_count": 39,
   "metadata": {},
   "outputs": [],
   "source": [
    "cleanup('GAD-7_questionnaire', 'nervous_anxious_onedge')"
   ]
  },
  {
   "cell_type": "markdown",
   "metadata": {},
   "source": [
    "#### Cleanup CASSS Questionnaire"
   ]
  },
  {
   "cell_type": "code",
   "execution_count": 40,
   "metadata": {},
   "outputs": [],
   "source": [
    "cleanup('CASSS_questionnaire', 'parent_proud')"
   ]
  },
  {
   "cell_type": "markdown",
   "metadata": {},
   "source": [
    "#### Cleanup CES-D Questionnaire"
   ]
  },
  {
   "cell_type": "code",
   "execution_count": 41,
   "metadata": {},
   "outputs": [],
   "source": [
    "cleanup('CES-D_questionnaire', 'more_bother')"
   ]
  },
  {
   "cell_type": "markdown",
   "metadata": {},
   "source": [
    "#### Cleanup IPPA Questionnaire"
   ]
  },
  {
   "cell_type": "code",
   "execution_count": 42,
   "metadata": {},
   "outputs": [],
   "source": [
    "cleanup('IPPA_questionnaire', 'respect_feeling')"
   ]
  },
  {
   "cell_type": "markdown",
   "metadata": {},
   "source": [
    "#### Cleanup PDS Questionnaire"
   ]
  },
  {
   "cell_type": "code",
   "execution_count": 43,
   "metadata": {},
   "outputs": [],
   "source": [
    "cleanup('PDS_questionnaire', 'height_growth')"
   ]
  },
  {
   "cell_type": "markdown",
   "metadata": {},
   "source": [
    "#### Cleanup OSPAN"
   ]
  },
  {
   "cell_type": "code",
   "execution_count": null,
   "metadata": {},
   "outputs": [],
   "source": [
    "cleanup('OSPAN', 'ospan_1')"
   ]
  },
  {
   "cell_type": "markdown",
   "metadata": {},
   "source": [
    "#### Cleanup RST"
   ]
  },
  {
   "cell_type": "code",
   "execution_count": 4,
   "metadata": {},
   "outputs": [],
   "source": [
    "cleanup('RST', 'rst')    # NOTE: this definitely did not work if you check OSPAN.csv"
   ]
  },
  {
   "cell_type": "markdown",
   "metadata": {},
   "source": [
    "#### Cleanup FTT Night Testing"
   ]
  },
  {
   "cell_type": "code",
   "execution_count": 5,
   "metadata": {},
   "outputs": [],
   "source": [
    "cleanup('FTT_night_testing', ['Night Testing', 'finger_tap'])"
   ]
  },
  {
   "cell_type": "markdown",
   "metadata": {},
   "source": [
    "#### Cleanup FTT Night Training"
   ]
  },
  {
   "cell_type": "code",
   "execution_count": null,
   "metadata": {},
   "outputs": [],
   "source": [
    "cleanup('FTT_night_training', ['Night Training', 'finger_tap'])"
   ]
  },
  {
   "cell_type": "markdown",
   "metadata": {},
   "source": [
    "#### Cleanup FTT Morning Testing"
   ]
  },
  {
   "cell_type": "code",
   "execution_count": null,
   "metadata": {},
   "outputs": [],
   "source": [
    "cleanup('FTT_morning_testing', ['Morning Testing', 'finger_tap'])"
   ]
  }
 ],
 "metadata": {
  "kernelspec": {
   "display_name": "base",
   "language": "python",
   "name": "python3"
  },
  "language_info": {
   "codemirror_mode": {
    "name": "ipython",
    "version": 3
   },
   "file_extension": ".py",
   "mimetype": "text/x-python",
   "name": "python",
   "nbconvert_exporter": "python",
   "pygments_lexer": "ipython3",
   "version": "3.9.17"
  },
  "orig_nbformat": 4
 },
 "nbformat": 4,
 "nbformat_minor": 2
}
